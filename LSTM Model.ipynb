{
 "cells": [
  {
   "cell_type": "markdown",
   "metadata": {},
   "source": [
    "Dataset Used: <a href=\"https://www.kaggle.com/c/fake-news/data\" target=\"_blank\">Here</a>"
   ]
  },
  {
   "cell_type": "markdown",
   "metadata": {},
   "source": [
    "Labels for Data:\n",
    "\n",
    "- 0 = Higher probability for Fake News\n",
    "- 1 = Higher probability for Factual News"
   ]
  },
  {
   "cell_type": "code",
   "execution_count": 1,
   "metadata": {},
   "outputs": [
    {
     "name": "stderr",
     "output_type": "stream",
     "text": [
      "[nltk_data] Downloading package stopwords to\n",
      "[nltk_data]     C:\\Users\\russe\\AppData\\Roaming\\nltk_data...\n",
      "[nltk_data]   Package stopwords is already up-to-date!\n"
     ]
    }
   ],
   "source": [
    "# Import required Libraries\n",
    "import numpy as np\n",
    "import pandas as pd\n",
    "import matplotlib.pyplot as plt\n",
    "\n",
    "# Import Tensorflow-Keras Library\n",
    "import tensorflow.keras\n",
    "from tensorflow.keras.models import model_from_json\n",
    "from tensorflow.keras.models import load_model\n",
    "from tensorflow.keras.models import Sequential\n",
    "from tensorflow.keras.callbacks import EarlyStopping\n",
    "from tensorflow.keras.layers import Embedding,LSTM,Dense,Dropout\n",
    "from tensorflow.keras.preprocessing.sequence import pad_sequences\n",
    "from tensorflow.keras.preprocessing.text import one_hot\n",
    "\n",
    "# Import Custom Functions\n",
    "from Functions import *"
   ]
  },
  {
   "cell_type": "code",
   "execution_count": 2,
   "metadata": {},
   "outputs": [
    {
     "data": {
      "text/html": [
       "<div>\n",
       "<style scoped>\n",
       "    .dataframe tbody tr th:only-of-type {\n",
       "        vertical-align: middle;\n",
       "    }\n",
       "\n",
       "    .dataframe tbody tr th {\n",
       "        vertical-align: top;\n",
       "    }\n",
       "\n",
       "    .dataframe thead th {\n",
       "        text-align: right;\n",
       "    }\n",
       "</style>\n",
       "<table border=\"1\" class=\"dataframe\">\n",
       "  <thead>\n",
       "    <tr style=\"text-align: right;\">\n",
       "      <th></th>\n",
       "      <th>title</th>\n",
       "      <th>author</th>\n",
       "      <th>source</th>\n",
       "    </tr>\n",
       "  </thead>\n",
       "  <tbody>\n",
       "    <tr>\n",
       "      <th>0</th>\n",
       "      <td>Bill Maher on Atlanta-area massage parlor shoo...</td>\n",
       "      <td>Fox News</td>\n",
       "      <td>Fox News</td>\n",
       "    </tr>\n",
       "    <tr>\n",
       "      <th>1</th>\n",
       "      <td>US and China trade angry words at high-level A...</td>\n",
       "      <td>BBC News</td>\n",
       "      <td>BBC News</td>\n",
       "    </tr>\n",
       "    <tr>\n",
       "      <th>2</th>\n",
       "      <td>Sarm Heslop was last seen on this 47-foot cata...</td>\n",
       "      <td>Fox News</td>\n",
       "      <td>Fox News</td>\n",
       "    </tr>\n",
       "    <tr>\n",
       "      <th>3</th>\n",
       "      <td>Covid: France and Poland increase lockdown mea...</td>\n",
       "      <td>BBC News</td>\n",
       "      <td>BBC News</td>\n",
       "    </tr>\n",
       "    <tr>\n",
       "      <th>4</th>\n",
       "      <td>John Solomon: Top Democrat fundraiser has ties...</td>\n",
       "      <td>Fox News</td>\n",
       "      <td>Fox News</td>\n",
       "    </tr>\n",
       "  </tbody>\n",
       "</table>\n",
       "</div>"
      ],
      "text/plain": [
       "                                               title    author    source\n",
       "0  Bill Maher on Atlanta-area massage parlor shoo...  Fox News  Fox News\n",
       "1  US and China trade angry words at high-level A...  BBC News  BBC News\n",
       "2  Sarm Heslop was last seen on this 47-foot cata...  Fox News  Fox News\n",
       "3  Covid: France and Poland increase lockdown mea...  BBC News  BBC News\n",
       "4  John Solomon: Top Democrat fundraiser has ties...  Fox News  Fox News"
      ]
     },
     "execution_count": 2,
     "metadata": {},
     "output_type": "execute_result"
    }
   ],
   "source": [
    "# Import Dataset\n",
    "data = pd.read_csv('Project_Dataset/train.csv')\n",
    "data_test = pd.read_csv('Project_Dataset/test.csv')\n",
    "# data.head()\n",
    "data_test.head()"
   ]
  },
  {
   "cell_type": "code",
   "execution_count": 4,
   "metadata": {},
   "outputs": [
    {
     "data": {
      "text/html": [
       "<div>\n",
       "<style scoped>\n",
       "    .dataframe tbody tr th:only-of-type {\n",
       "        vertical-align: middle;\n",
       "    }\n",
       "\n",
       "    .dataframe tbody tr th {\n",
       "        vertical-align: top;\n",
       "    }\n",
       "\n",
       "    .dataframe thead th {\n",
       "        text-align: right;\n",
       "    }\n",
       "</style>\n",
       "<table border=\"1\" class=\"dataframe\">\n",
       "  <thead>\n",
       "    <tr style=\"text-align: right;\">\n",
       "      <th></th>\n",
       "      <th>title</th>\n",
       "      <th>author</th>\n",
       "      <th>source</th>\n",
       "    </tr>\n",
       "  </thead>\n",
       "  <tbody>\n",
       "    <tr>\n",
       "      <th>0</th>\n",
       "      <td>Bill Maher on Atlanta-area massage parlor shoo...</td>\n",
       "      <td>Fox News</td>\n",
       "      <td>Fox News</td>\n",
       "    </tr>\n",
       "    <tr>\n",
       "      <th>2</th>\n",
       "      <td>Sarm Heslop was last seen on this 47-foot cata...</td>\n",
       "      <td>Fox News</td>\n",
       "      <td>Fox News</td>\n",
       "    </tr>\n",
       "    <tr>\n",
       "      <th>4</th>\n",
       "      <td>John Solomon: Top Democrat fundraiser has ties...</td>\n",
       "      <td>Fox News</td>\n",
       "      <td>Fox News</td>\n",
       "    </tr>\n",
       "    <tr>\n",
       "      <th>5</th>\n",
       "      <td>Federal judge warns 'dangerous' media has 'ver...</td>\n",
       "      <td>Fox News</td>\n",
       "      <td>Fox News</td>\n",
       "    </tr>\n",
       "    <tr>\n",
       "      <th>8</th>\n",
       "      <td>Tucker: Beijing using Black Lives Matter as a ...</td>\n",
       "      <td>Fox News</td>\n",
       "      <td>Fox News</td>\n",
       "    </tr>\n",
       "    <tr>\n",
       "      <th>11</th>\n",
       "      <td>Monopoly getting 'long overdue' socially consc...</td>\n",
       "      <td>Fox News</td>\n",
       "      <td>Fox News</td>\n",
       "    </tr>\n",
       "    <tr>\n",
       "      <th>14</th>\n",
       "      <td>Texas Gov. Abbott: Border crisis is now 'a hum...</td>\n",
       "      <td>Fox News</td>\n",
       "      <td>Fox News</td>\n",
       "    </tr>\n",
       "    <tr>\n",
       "      <th>15</th>\n",
       "      <td>Maria Bartiromo: China is using 'progressive, ...</td>\n",
       "      <td>Fox News</td>\n",
       "      <td>Fox News</td>\n",
       "    </tr>\n",
       "    <tr>\n",
       "      <th>19</th>\n",
       "      <td>WH axes staffers over past pot use even though...</td>\n",
       "      <td>Fox News</td>\n",
       "      <td>Fox News</td>\n",
       "    </tr>\n",
       "    <tr>\n",
       "      <th>42</th>\n",
       "      <td>Biden stumbles multiple times, falls as he sca...</td>\n",
       "      <td>Fox News</td>\n",
       "      <td>Fox News</td>\n",
       "    </tr>\n",
       "  </tbody>\n",
       "</table>\n",
       "</div>"
      ],
      "text/plain": [
       "                                                title    author    source\n",
       "0   Bill Maher on Atlanta-area massage parlor shoo...  Fox News  Fox News\n",
       "2   Sarm Heslop was last seen on this 47-foot cata...  Fox News  Fox News\n",
       "4   John Solomon: Top Democrat fundraiser has ties...  Fox News  Fox News\n",
       "5   Federal judge warns 'dangerous' media has 'ver...  Fox News  Fox News\n",
       "8   Tucker: Beijing using Black Lives Matter as a ...  Fox News  Fox News\n",
       "11  Monopoly getting 'long overdue' socially consc...  Fox News  Fox News\n",
       "14  Texas Gov. Abbott: Border crisis is now 'a hum...  Fox News  Fox News\n",
       "15  Maria Bartiromo: China is using 'progressive, ...  Fox News  Fox News\n",
       "19  WH axes staffers over past pot use even though...  Fox News  Fox News\n",
       "42  Biden stumbles multiple times, falls as he sca...  Fox News  Fox News"
      ]
     },
     "execution_count": 4,
     "metadata": {},
     "output_type": "execute_result"
    }
   ],
   "source": [
    "data_test.loc[data_test['author'] == \"Fox News\"]"
   ]
  },
  {
   "cell_type": "markdown",
   "metadata": {},
   "source": [
    "## Preprocessing and Cleaning"
   ]
  },
  {
   "cell_type": "code",
   "execution_count": 109,
   "metadata": {},
   "outputs": [
    {
     "name": "stdout",
     "output_type": "stream",
     "text": [
      "(20800, 25)\n",
      "(61, 25)\n",
      "(20800, 25) (61, 25) (20800,)\n"
     ]
    }
   ],
   "source": [
    "# Fill Any Null Values\n",
    "data = data.fillna('')\n",
    "data_test = data_test.fillna('')\n",
    "\n",
    "# Combine columns for analysis\n",
    "data['compiled'] = data['title'] + ' ' + data['author']\n",
    "data_test['compiled'] = data_test['title'] + ' ' + data_test['author']\n",
    "\n",
    "# Get Targets\n",
    "X = data.drop('label', axis=1)\n",
    "X_test = data_test.copy()\n",
    "y = data['label']\n",
    "\n",
    "# Preprocess Data & convert to Matrix arrays\n",
    "X_final_train = np.array(pre_process(X,max_vocab))\n",
    "X_final_test = np.array(pre_process(X_test,max_vocab))\n",
    "y_final_train = np.array(y)\n",
    "print(X_final_train.shape,X_final_test.shape, y_final_train.shape)"
   ]
  },
  {
   "cell_type": "markdown",
   "metadata": {},
   "source": [
    "## Model Creation - LSTM with Embedding Layer"
   ]
  },
  {
   "cell_type": "code",
   "execution_count": 8,
   "metadata": {},
   "outputs": [
    {
     "name": "stdout",
     "output_type": "stream",
     "text": [
      "Model: \"sequential\"\n",
      "_________________________________________________________________\n",
      "Layer (type)                 Output Shape              Param #   \n",
      "=================================================================\n",
      "embedding (Embedding)        (None, 25, 40)            200000    \n",
      "_________________________________________________________________\n",
      "dropout (Dropout)            (None, 25, 40)            0         \n",
      "_________________________________________________________________\n",
      "lstm (LSTM)                  (None, 100)               56400     \n",
      "_________________________________________________________________\n",
      "dropout_1 (Dropout)          (None, 100)               0         \n",
      "_________________________________________________________________\n",
      "dense (Dense)                (None, 64)                6464      \n",
      "_________________________________________________________________\n",
      "dropout_2 (Dropout)          (None, 64)                0         \n",
      "_________________________________________________________________\n",
      "dense_1 (Dense)              (None, 1)                 65        \n",
      "=================================================================\n",
      "Total params: 262,929\n",
      "Trainable params: 262,929\n",
      "Non-trainable params: 0\n",
      "_________________________________________________________________\n"
     ]
    }
   ],
   "source": [
    "# Establish Custom Layer Parameters\n",
    "lr_schedule = tensorflow.keras.optimizers.schedules.ExponentialDecay(initial_learning_rate=2e-4, decay_steps=1000, decay_rate=0.07)\n",
    "\n",
    "opt = tensorflow.keras.optimizers.Adam(learning_rate=lr_schedule)\n",
    "\n",
    "# Initialise layers\n",
    "model = Sequential()\n",
    "model.add(Embedding(max_vocab,40,input_length=25))\n",
    "model.add(Dropout(0.3))\n",
    "model.add(LSTM(100))\n",
    "model.add(Dropout(0.3))\n",
    "model.add(Dense(64,activation='relu'))\n",
    "model.add(Dropout(0.3))\n",
    "model.add(Dense(1,activation='sigmoid'))\n",
    "model.compile(loss='binary_crossentropy',optimizer=opt, metrics=['accuracy'])\n",
    "model.summary()"
   ]
  },
  {
   "cell_type": "code",
   "execution_count": 9,
   "metadata": {},
   "outputs": [
    {
     "name": "stdout",
     "output_type": "stream",
     "text": [
      "Epoch 1/20\n",
      "260/260 [==============================] - 7s 22ms/step - loss: 0.5893 - accuracy: 0.7405 - val_loss: 0.2550 - val_accuracy: 0.8945\n",
      "Epoch 2/20\n",
      "260/260 [==============================] - 5s 20ms/step - loss: 0.2130 - accuracy: 0.9137 - val_loss: 0.1361 - val_accuracy: 0.9502\n",
      "Epoch 3/20\n",
      "260/260 [==============================] - 5s 21ms/step - loss: 0.1366 - accuracy: 0.9538 - val_loss: 0.1109 - val_accuracy: 0.9599\n",
      "Epoch 4/20\n",
      "260/260 [==============================] - 5s 21ms/step - loss: 0.1100 - accuracy: 0.9602 - val_loss: 0.1020 - val_accuracy: 0.9632\n",
      "Epoch 5/20\n",
      "260/260 [==============================] - 5s 21ms/step - loss: 0.1067 - accuracy: 0.9623 - val_loss: 0.0984 - val_accuracy: 0.9630\n",
      "Epoch 6/20\n",
      "260/260 [==============================] - 5s 21ms/step - loss: 0.1005 - accuracy: 0.9650 - val_loss: 0.0976 - val_accuracy: 0.9637\n",
      "Epoch 7/20\n",
      "260/260 [==============================] - 5s 21ms/step - loss: 0.0994 - accuracy: 0.9658 - val_loss: 0.0959 - val_accuracy: 0.9644\n",
      "Epoch 8/20\n",
      "260/260 [==============================] - 5s 21ms/step - loss: 0.0932 - accuracy: 0.9674 - val_loss: 0.0954 - val_accuracy: 0.9647\n",
      "Epoch 9/20\n",
      "260/260 [==============================] - 5s 21ms/step - loss: 0.0989 - accuracy: 0.9663 - val_loss: 0.0951 - val_accuracy: 0.9644\n",
      "Epoch 10/20\n",
      "260/260 [==============================] - 5s 21ms/step - loss: 0.0962 - accuracy: 0.9657 - val_loss: 0.0949 - val_accuracy: 0.9647\n",
      "Epoch 11/20\n",
      "260/260 [==============================] - 5s 21ms/step - loss: 0.0925 - accuracy: 0.9694 - val_loss: 0.0948 - val_accuracy: 0.9647\n",
      "Epoch 12/20\n",
      "260/260 [==============================] - 5s 21ms/step - loss: 0.0954 - accuracy: 0.9673 - val_loss: 0.0948 - val_accuracy: 0.9647\n",
      "Epoch 13/20\n",
      "260/260 [==============================] - 5s 21ms/step - loss: 0.0951 - accuracy: 0.9663 - val_loss: 0.0948 - val_accuracy: 0.9647\n",
      "Epoch 14/20\n",
      "260/260 [==============================] - 6s 22ms/step - loss: 0.0948 - accuracy: 0.9667 - val_loss: 0.0948 - val_accuracy: 0.9647\n",
      "Epoch 15/20\n",
      "260/260 [==============================] - 5s 21ms/step - loss: 0.0947 - accuracy: 0.9674 - val_loss: 0.0948 - val_accuracy: 0.9647\n",
      "Epoch 16/20\n",
      "260/260 [==============================] - 5s 21ms/step - loss: 0.0953 - accuracy: 0.9683 - val_loss: 0.0948 - val_accuracy: 0.9647\n",
      "Epoch 17/20\n",
      "260/260 [==============================] - 6s 21ms/step - loss: 0.0932 - accuracy: 0.9680 - val_loss: 0.0948 - val_accuracy: 0.9647\n",
      "Epoch 18/20\n",
      "260/260 [==============================] - 6s 21ms/step - loss: 0.0929 - accuracy: 0.9687 - val_loss: 0.0948 - val_accuracy: 0.9647\n",
      "Epoch 19/20\n",
      "260/260 [==============================] - 6s 21ms/step - loss: 0.0984 - accuracy: 0.9664 - val_loss: 0.0948 - val_accuracy: 0.9647\n",
      "Epoch 20/20\n",
      "260/260 [==============================] - 6s 22ms/step - loss: 0.0920 - accuracy: 0.9674 - val_loss: 0.0948 - val_accuracy: 0.9647\n"
     ]
    }
   ],
   "source": [
    "# Fit Model on train Data\n",
    "es = EarlyStopping(monitor='val_loss', mode='min', verbose=1, patience=5)\n",
    "history = model.fit(X_final_train,y_final_train,validation_split=0.20,epochs=20,batch_size=64, callbacks=[es])"
   ]
  },
  {
   "cell_type": "code",
   "execution_count": 45,
   "metadata": {},
   "outputs": [],
   "source": [
    "# Save model\n",
    "#model.save('LSTM_Model_Stable.h5')\n",
    "\n",
    "# Loads saved Model\n",
    "# loaded_model = load_model('Models/LSTM_Model_Stable.h5')\n",
    "# print(\"Model Loaded Successfully\")"
   ]
  },
  {
   "cell_type": "markdown",
   "metadata": {},
   "source": [
    "## Predict On Test Data and Store results as CSV"
   ]
  },
  {
   "cell_type": "code",
   "execution_count": 110,
   "metadata": {},
   "outputs": [],
   "source": [
    "# Make Predictions on real-time Data\n",
    "y_pred = (history.model.predict(X_final_test)>0.5).astype('int32')\n",
    "\n",
    "# Tabulate Results\n",
    "results_table = pd.DataFrame()\n",
    "results_table[['title','source']] = data_test[['title','source']]\n",
    "results_table['label'] = y_pred\n",
    "results_table = results_table.sort_values(by=['source'])\n",
    "# Save Results as CSV File\n",
    "results_table.to_csv(path_or_buf='Project_Dataset/results.csv', index=False)"
   ]
  },
  {
   "cell_type": "markdown",
   "metadata": {},
   "source": [
    "## Visualize Model Training"
   ]
  },
  {
   "cell_type": "code",
   "execution_count": 91,
   "metadata": {},
   "outputs": [
    {
     "data": {
      "image/png": "[encoded data removed]",
      "text/plain": [
       "<Figure size 640x480 with 1 Axes>"
      ]
     },
     "metadata": {},
     "output_type": "display_data"
    }
   ],
   "source": [
    "# Visualize Model Training and Model Convergence\n",
    "%matplotlib inline\n",
    "\n",
    "epochs = np.arange(0, len(history.history[\"loss\"]))\n",
    "plt.style.use(\"default\")\n",
    "\n",
    "plt.plot(epochs - 0.5, history.history[\"loss\"], label=\"train_loss\", color=\"Blue\")\n",
    "plt.plot(epochs, history.history[\"val_loss\"], label=\"val_loss\",color=\"Red\")\n",
    "plt.title(\"Model Training vs Validation Loss\")\n",
    "plt.xlabel(\"Epoch #\")\n",
    "plt.ylabel(\"Loss\")\n",
    "plt.legend()\n",
    "plt.tight_layout()\n",
    "plt.show()"
   ]
  },
  {
   "cell_type": "code",
   "execution_count": 107,
   "metadata": {},
   "outputs": [
    {
     "name": "stdout",
     "output_type": "stream",
     "text": [
      "Garbage collector: collected 2088 objects.\n"
     ]
    }
   ],
   "source": [
    "import gc\n",
    "collected = gc.collect()\n",
    "print(\"Garbage collector: collected\",\"%d objects.\" % collected) "
   ]
  }
 ],
 "metadata": {
  "kernelspec": {
   "display_name": "Python 3",
   "language": "python",
   "name": "python3"
  },
  "language_info": {
   "codemirror_mode": {
    "name": "ipython",
    "version": 3
   },
   "file_extension": ".py",
   "mimetype": "text/x-python",
   "name": "python",
   "nbconvert_exporter": "python",
   "pygments_lexer": "ipython3",
   "version": "3.8.5"
  }
 },
 "nbformat": 4,
 "nbformat_minor": 4
}
