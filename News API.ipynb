{
 "cells": [
  {
   "cell_type": "markdown",
   "metadata": {},
   "source": [
    "## NEWS API - 100 Call Limit per day with 1 hour News delay\n",
    "Base URL: https://newsapi.org/\n",
    "\n",
    "3 Different Use-Case Endpoint: \n",
    "1. Everything: /v2/everything\n",
    "2. Top headlines: /v2/top-headlines\n",
    "3. Sources: /v2/sources\n",
    "\n",
    "Parameters - ***Everything Endpoint***:\n",
    "\n",
    "* ***q*** - Keywords or phrases to search for in the article title and body\n",
    "\n",
    "* ***q_in_Title*** - Keywords or phrases to search for in the article title only\n",
    "\n",
    "* ***sources*** - A comma-seperated string of identifiers (maximum 20) for the news sources or blogs you want headlines from. Use the <a href=\"https://newsapi.org/docs/endpoints/everything#sources\" target=\"_blank\">/sources endpoint</a> to locate these programmatically or look at the <a href=\"https://newsapi.org/sources\" target=\"_blank\">sources index</a>.\n",
    "\n",
    "* ***domains*** - A comma-seperated string of domains (eg bbc.co.uk, techcrunch.com, engadget.com) to restrict the search to\n",
    "\n",
    "* ***excludeDomains*** - A comma-seperated string of domains (eg bbc.co.uk, techcrunch.com, engadget.com) to remove from the results.\n",
    "\n",
    "* ***from*** - A date and optional time for the oldest article allowed. This should be in ISO 8601 format (e.g. 2021-03-18 or 2021-03-18T22:27:15) - Default: Oldest based on Plan\n",
    "                \n",
    "* ***to*** - A date and optional time for the newest article allowed. This should be in ISO 8601 format (e.g. 2021-03-18 or 2021-03-18T22:27:15) - Default: Most Recent based on Plan\n",
    "                \n",
    "* ***language*** - The 2-letter ISO-639-1 code of the language you want to get headlines for. Possible options: ardeenesfrheitnlnoptruseudzh. - Default: all languages returned\n",
    "                \n",
    "* ***sort_By*** - The order to sort the articles in. Possible options: relevancy, popularity, publishedAt.\n",
    "    - relevancy = articles more closely related to q come first.\n",
    "    - popularity = articles from popular sources and publishers come first.\n",
    "    - publishedAt = newest articles come first.\n",
    "    - Default: publishedAt\n",
    "\n",
    "* ***page_size(int)*** - The number of results to return per page - Default: 20. Maximum: 100\n",
    "                    \n",
    "* ***page(int)*** - Use this to page through the results - Default: 1\n",
    "\n",
    "Additional Information <a href=\"https://newsapi.org/docs/endpoints/everything#sources\" target=\"_blank\">Here</a>"
   ]
  },
  {
   "cell_type": "code",
   "execution_count": 1,
   "metadata": {},
   "outputs": [],
   "source": [
    "# Initialize py file for faster imports\n",
    "%run ./News_API_Functions.py"
   ]
  },
  {
   "cell_type": "code",
   "execution_count": 2,
   "metadata": {},
   "outputs": [
    {
     "name": "stdout",
     "output_type": "stream",
     "text": [
      "Key: 870c063865e94f67a93103f7516f9125\n",
      "API Successfully Initialized\n"
     ]
    }
   ],
   "source": [
    "# Import required Libraries\n",
    "import pandas as pd\n",
    "import os\n",
    "from newsapi import NewsApiClient\n",
    "from pandas import json_normalize\n",
    "import json\n",
    "import requests\n",
    "from IPython.display import JSON\n",
    "\n",
    "# Import Custom Functions\n",
    "from News_API_Functions import *\n",
    "\n",
    "# Load API Key into local Variable\n",
    "news_key = os.environ['news_api_key']\n",
    "print(f'Key: {news_key}')\n",
    "# Initialise API CLient\n",
    "newsapi = NewsApiClient(api_key=news_key)\n",
    "print('API Successfully Initialized')"
   ]
  },
  {
   "cell_type": "markdown",
   "metadata": {},
   "source": [
    "### API in Use: /v2/top-headlines"
   ]
  },
  {
   "cell_type": "code",
   "execution_count": 3,
   "metadata": {},
   "outputs": [],
   "source": [
    "# Generate API Calls from popular News Sources\n",
    "sources = 'fox-news, bbc-news, cnn, the-washington-post, reuters, breitbart-news, abc-news'\n",
    "top_headlines = fetch_query(newsapi,sources)"
   ]
  },
  {
   "cell_type": "code",
   "execution_count": 4,
   "metadata": {},
   "outputs": [
    {
     "name": "stderr",
     "output_type": "stream",
     "text": [
      "<ipython-input-4-87462ebd31b6>:6: SettingWithCopyWarning: \n",
      "A value is trying to be set on a copy of a slice from a DataFrame\n",
      "\n",
      "See the caveats in the documentation: https://pandas.pydata.org/pandas-docs/stable/user_guide/indexing.html#returning-a-view-versus-a-copy\n",
      "  top_headline_data.iloc[row]['author'] = top_headline_data.iloc[row]['author']+' '+top_headline_data.iloc[row]['source']\n"
     ]
    }
   ],
   "source": [
    "# Function call to extract data from query\n",
    "top_headline_data = create_data(top_headlines)\n",
    "# Tidy up Author Data by adding news source if not present\n",
    "for row in range(len(top_headline_data)):\n",
    "    if top_headline_data.iloc[row]['source'] not in top_headline_data.iloc[row]['author']:\n",
    "        top_headline_data.iloc[row]['author'] = top_headline_data.iloc[row]['author']+' '+top_headline_data.iloc[row]['source']        "
   ]
  },
  {
   "cell_type": "code",
   "execution_count": 5,
   "metadata": {},
   "outputs": [],
   "source": [
    "# Export Data as test csv \n",
    "top_headline_data.to_csv(path_or_buf='Project_Dataset/test.csv', index=False)"
   ]
  },
  {
   "cell_type": "code",
   "execution_count": 6,
   "metadata": {},
   "outputs": [
    {
     "name": "stdout",
     "output_type": "stream",
     "text": [
      "Garbage collector: collected 44 objects.\n"
     ]
    }
   ],
   "source": [
    "import gc\n",
    "collected = gc.collect()\n",
    "print(\"Garbage collector: collected\",\"%d objects.\" % collected) "
   ]
  }
 ],
 "metadata": {
  "kernelspec": {
   "display_name": "Python 3",
   "language": "python",
   "name": "python3"
  },
  "language_info": {
   "codemirror_mode": {
    "name": "ipython",
    "version": 3
   },
   "file_extension": ".py",
   "mimetype": "text/x-python",
   "name": "python",
   "nbconvert_exporter": "python",
   "pygments_lexer": "ipython3",
   "version": "3.8.5"
  }
 },
 "nbformat": 4,
 "nbformat_minor": 4
}
